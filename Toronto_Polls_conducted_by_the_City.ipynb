{
 "cells": [
  {
   "cell_type": "markdown",
   "metadata": {
    "collapsed": true
   },
   "source": [
    "# Storytelling with Open Data and Python"
   ]
  },
  {
   "cell_type": "code",
   "execution_count": 1,
   "metadata": {},
   "outputs": [
    {
     "name": "stdout",
     "output_type": "stream",
     "text": [
      "3.6.2 |Anaconda custom (64-bit)| (default, Jul 20 2017, 13:51:32) \n",
      "[GCC 4.4.7 20120313 (Red Hat 4.4.7-1)]\n"
     ]
    }
   ],
   "source": [
    "import pandas as pd\n",
    "import numpy as np\n",
    "import matplotlib.pyplot as plt\n",
    "import seaborn as sns\n",
    "import sys\n",
    "\n",
    "print(sys.version)"
   ]
  },
  {
   "cell_type": "markdown",
   "metadata": {},
   "source": [
    "#### About this dataset: https://www1.toronto.ca/wps/portal/contentonly?vgnextoid=4224640a430cd410VgnVCM10000071d60f89RCRD&vgnextchannel=1a66e03bb8d1e310VgnVCM10000071d60f89RCRD"
   ]
  },
  {
   "cell_type": "code",
   "execution_count": 2,
   "metadata": {
    "collapsed": true
   },
   "outputs": [],
   "source": [
    "df = pd.read_csv(\"http://opendata.toronto.ca/clerk/epolling/epolling_csv.zip\")"
   ]
  },
  {
   "cell_type": "code",
   "execution_count": 3,
   "metadata": {},
   "outputs": [
    {
     "name": "stdout",
     "output_type": "stream",
     "text": [
      "<class 'pandas.core.frame.DataFrame'>\n",
      "RangeIndex: 553 entries, 0 to 552\n",
      "Data columns (total 24 columns):\n",
      "POLL_ID                          553 non-null int64\n",
      "POLL_CD                          553 non-null object\n",
      "APPLICATION_FOR                  553 non-null object\n",
      "ADDRESS                          410 non-null object\n",
      "OPEN_DATE                        553 non-null object\n",
      "CLOSE_DATE                       553 non-null object\n",
      "POTENTIAL_VOTERS                 553 non-null int64\n",
      "DECLARATIONS_ADDED               553 non-null int64\n",
      "FINAL_VOTER_COUNT                553 non-null int64\n",
      "BALLOTS_DISTRIBUTED              553 non-null int64\n",
      "BALLOTS_RETURNED_TO_SENDER       553 non-null int64\n",
      "BALLOTS_RECEIVED_BY_VOTERS       553 non-null int64\n",
      "BALLOTS_NEEDED_TO_PROCEED_LBL    553 non-null object\n",
      "BALLOTS_NEEDED_TO_PROCEED        553 non-null int64\n",
      "BALLOTS_CAST                     553 non-null int64\n",
      "RESPONSE_RATE_MET                553 non-null object\n",
      "BALLOTS_IN_FAVOUR                553 non-null int64\n",
      "BALLOTS_OPPOSED                  553 non-null int64\n",
      "BALLOTS_SPOILED                  553 non-null int64\n",
      "BALLOTS_BLANK                    553 non-null int64\n",
      "PASS_RATE_LABEL                  553 non-null object\n",
      "PASS_RATE                        447 non-null float64\n",
      "POLL_RESULT                      553 non-null object\n",
      "MORATORIUM_DATE                  553 non-null object\n",
      "dtypes: float64(1), int64(13), object(10)\n",
      "memory usage: 103.8+ KB\n"
     ]
    }
   ],
   "source": [
    "df.info()"
   ]
  },
  {
   "cell_type": "code",
   "execution_count": 4,
   "metadata": {},
   "outputs": [
    {
     "data": {
      "text/html": [
       "<div>\n",
       "<style>\n",
       "    .dataframe thead tr:only-child th {\n",
       "        text-align: right;\n",
       "    }\n",
       "\n",
       "    .dataframe thead th {\n",
       "        text-align: left;\n",
       "    }\n",
       "\n",
       "    .dataframe tbody tr th {\n",
       "        vertical-align: top;\n",
       "    }\n",
       "</style>\n",
       "<table border=\"1\" class=\"dataframe\">\n",
       "  <thead>\n",
       "    <tr style=\"text-align: right;\">\n",
       "      <th></th>\n",
       "      <th>POLL_ID</th>\n",
       "      <th>POLL_CD</th>\n",
       "      <th>APPLICATION_FOR</th>\n",
       "      <th>ADDRESS</th>\n",
       "      <th>OPEN_DATE</th>\n",
       "      <th>CLOSE_DATE</th>\n",
       "      <th>POTENTIAL_VOTERS</th>\n",
       "      <th>DECLARATIONS_ADDED</th>\n",
       "      <th>FINAL_VOTER_COUNT</th>\n",
       "      <th>BALLOTS_DISTRIBUTED</th>\n",
       "      <th>...</th>\n",
       "      <th>BALLOTS_CAST</th>\n",
       "      <th>RESPONSE_RATE_MET</th>\n",
       "      <th>BALLOTS_IN_FAVOUR</th>\n",
       "      <th>BALLOTS_OPPOSED</th>\n",
       "      <th>BALLOTS_SPOILED</th>\n",
       "      <th>BALLOTS_BLANK</th>\n",
       "      <th>PASS_RATE_LABEL</th>\n",
       "      <th>PASS_RATE</th>\n",
       "      <th>POLL_RESULT</th>\n",
       "      <th>MORATORIUM_DATE</th>\n",
       "    </tr>\n",
       "  </thead>\n",
       "  <tbody>\n",
       "    <tr>\n",
       "      <th>0</th>\n",
       "      <td>170</td>\n",
       "      <td>FYP 2015-104</td>\n",
       "      <td>Front Yard Parking</td>\n",
       "      <td>8 Brumell Ave</td>\n",
       "      <td>2015/05/01</td>\n",
       "      <td>2015/05/31</td>\n",
       "      <td>41</td>\n",
       "      <td>0</td>\n",
       "      <td>34</td>\n",
       "      <td>34</td>\n",
       "      <td>...</td>\n",
       "      <td>18</td>\n",
       "      <td>Yes</td>\n",
       "      <td>16</td>\n",
       "      <td>1</td>\n",
       "      <td>1</td>\n",
       "      <td>0</td>\n",
       "      <td>50% + 1 of received ballots</td>\n",
       "      <td>10.0</td>\n",
       "      <td>In Favour</td>\n",
       "      <td>2018/06/01</td>\n",
       "    </tr>\n",
       "    <tr>\n",
       "      <th>1</th>\n",
       "      <td>172</td>\n",
       "      <td>FYP 2015-106</td>\n",
       "      <td>Front Yard Parking</td>\n",
       "      <td>90 Belsize Dr</td>\n",
       "      <td>2015/05/04</td>\n",
       "      <td>2015/06/03</td>\n",
       "      <td>40</td>\n",
       "      <td>0</td>\n",
       "      <td>36</td>\n",
       "      <td>36</td>\n",
       "      <td>...</td>\n",
       "      <td>30</td>\n",
       "      <td>Yes</td>\n",
       "      <td>30</td>\n",
       "      <td>0</td>\n",
       "      <td>0</td>\n",
       "      <td>0</td>\n",
       "      <td>50% + 1 of received ballots</td>\n",
       "      <td>16.0</td>\n",
       "      <td>In Favour</td>\n",
       "      <td>2018/06/04</td>\n",
       "    </tr>\n",
       "    <tr>\n",
       "      <th>2</th>\n",
       "      <td>176</td>\n",
       "      <td>TCP 2015-110</td>\n",
       "      <td>Traffic Calming</td>\n",
       "      <td>NaN</td>\n",
       "      <td>2015/05/06</td>\n",
       "      <td>2015/06/04</td>\n",
       "      <td>379</td>\n",
       "      <td>0</td>\n",
       "      <td>334</td>\n",
       "      <td>334</td>\n",
       "      <td>...</td>\n",
       "      <td>137</td>\n",
       "      <td>No</td>\n",
       "      <td>101</td>\n",
       "      <td>31</td>\n",
       "      <td>5</td>\n",
       "      <td>0</td>\n",
       "      <td>60% of received ballots</td>\n",
       "      <td>NaN</td>\n",
       "      <td>Response Rate Not Met</td>\n",
       "      <td>2017/06/05</td>\n",
       "    </tr>\n",
       "    <tr>\n",
       "      <th>3</th>\n",
       "      <td>177</td>\n",
       "      <td>BCP 2015-111</td>\n",
       "      <td>Boulevard Cafe</td>\n",
       "      <td>889 Queen St E</td>\n",
       "      <td>2015/05/06</td>\n",
       "      <td>2015/06/05</td>\n",
       "      <td>120</td>\n",
       "      <td>0</td>\n",
       "      <td>106</td>\n",
       "      <td>106</td>\n",
       "      <td>...</td>\n",
       "      <td>30</td>\n",
       "      <td>Yes</td>\n",
       "      <td>19</td>\n",
       "      <td>10</td>\n",
       "      <td>1</td>\n",
       "      <td>0</td>\n",
       "      <td>50% + 1 of received ballots</td>\n",
       "      <td>16.0</td>\n",
       "      <td>In Favour</td>\n",
       "      <td>2017/06/06</td>\n",
       "    </tr>\n",
       "    <tr>\n",
       "      <th>4</th>\n",
       "      <td>179</td>\n",
       "      <td>CBP 2015-113</td>\n",
       "      <td>Commercial Boulevard Parking</td>\n",
       "      <td>1747 Eglinton Ave W</td>\n",
       "      <td>2015/05/11</td>\n",
       "      <td>2015/06/09</td>\n",
       "      <td>333</td>\n",
       "      <td>0</td>\n",
       "      <td>235</td>\n",
       "      <td>235</td>\n",
       "      <td>...</td>\n",
       "      <td>26</td>\n",
       "      <td>No</td>\n",
       "      <td>13</td>\n",
       "      <td>11</td>\n",
       "      <td>2</td>\n",
       "      <td>0</td>\n",
       "      <td>50% + 1 of received ballots</td>\n",
       "      <td>NaN</td>\n",
       "      <td>Response Rate Not Met</td>\n",
       "      <td>2017/06/10</td>\n",
       "    </tr>\n",
       "  </tbody>\n",
       "</table>\n",
       "<p>5 rows × 24 columns</p>\n",
       "</div>"
      ],
      "text/plain": [
       "   POLL_ID       POLL_CD               APPLICATION_FOR              ADDRESS  \\\n",
       "0      170  FYP 2015-104            Front Yard Parking        8 Brumell Ave   \n",
       "1      172  FYP 2015-106            Front Yard Parking        90 Belsize Dr   \n",
       "2      176  TCP 2015-110               Traffic Calming                  NaN   \n",
       "3      177  BCP 2015-111                Boulevard Cafe       889 Queen St E   \n",
       "4      179  CBP 2015-113  Commercial Boulevard Parking  1747 Eglinton Ave W   \n",
       "\n",
       "    OPEN_DATE  CLOSE_DATE  POTENTIAL_VOTERS  DECLARATIONS_ADDED  \\\n",
       "0  2015/05/01  2015/05/31                41                   0   \n",
       "1  2015/05/04  2015/06/03                40                   0   \n",
       "2  2015/05/06  2015/06/04               379                   0   \n",
       "3  2015/05/06  2015/06/05               120                   0   \n",
       "4  2015/05/11  2015/06/09               333                   0   \n",
       "\n",
       "   FINAL_VOTER_COUNT  BALLOTS_DISTRIBUTED       ...         BALLOTS_CAST  \\\n",
       "0                 34                   34       ...                   18   \n",
       "1                 36                   36       ...                   30   \n",
       "2                334                  334       ...                  137   \n",
       "3                106                  106       ...                   30   \n",
       "4                235                  235       ...                   26   \n",
       "\n",
       "   RESPONSE_RATE_MET BALLOTS_IN_FAVOUR  BALLOTS_OPPOSED  BALLOTS_SPOILED  \\\n",
       "0                Yes                16                1                1   \n",
       "1                Yes                30                0                0   \n",
       "2                 No               101               31                5   \n",
       "3                Yes                19               10                1   \n",
       "4                 No                13               11                2   \n",
       "\n",
       "  BALLOTS_BLANK              PASS_RATE_LABEL  PASS_RATE  \\\n",
       "0             0  50% + 1 of received ballots       10.0   \n",
       "1             0  50% + 1 of received ballots       16.0   \n",
       "2             0      60% of received ballots        NaN   \n",
       "3             0  50% + 1 of received ballots       16.0   \n",
       "4             0  50% + 1 of received ballots        NaN   \n",
       "\n",
       "             POLL_RESULT  MORATORIUM_DATE  \n",
       "0              In Favour       2018/06/01  \n",
       "1              In Favour       2018/06/04  \n",
       "2  Response Rate Not Met       2017/06/05  \n",
       "3              In Favour       2017/06/06  \n",
       "4  Response Rate Not Met       2017/06/10  \n",
       "\n",
       "[5 rows x 24 columns]"
      ]
     },
     "execution_count": 4,
     "metadata": {},
     "output_type": "execute_result"
    }
   ],
   "source": [
    "df.head()"
   ]
  },
  {
   "cell_type": "code",
   "execution_count": 5,
   "metadata": {},
   "outputs": [
    {
     "data": {
      "text/html": [
       "<div>\n",
       "<style>\n",
       "    .dataframe thead tr:only-child th {\n",
       "        text-align: right;\n",
       "    }\n",
       "\n",
       "    .dataframe thead th {\n",
       "        text-align: left;\n",
       "    }\n",
       "\n",
       "    .dataframe tbody tr th {\n",
       "        vertical-align: top;\n",
       "    }\n",
       "</style>\n",
       "<table border=\"1\" class=\"dataframe\">\n",
       "  <thead>\n",
       "    <tr style=\"text-align: right;\">\n",
       "      <th></th>\n",
       "      <th>POLL_ID</th>\n",
       "      <th>POLL_CD</th>\n",
       "      <th>APPLICATION_FOR</th>\n",
       "      <th>ADDRESS</th>\n",
       "      <th>OPEN_DATE</th>\n",
       "      <th>CLOSE_DATE</th>\n",
       "      <th>POTENTIAL_VOTERS</th>\n",
       "      <th>DECLARATIONS_ADDED</th>\n",
       "      <th>FINAL_VOTER_COUNT</th>\n",
       "      <th>BALLOTS_DISTRIBUTED</th>\n",
       "      <th>...</th>\n",
       "      <th>BALLOTS_CAST</th>\n",
       "      <th>RESPONSE_RATE_MET</th>\n",
       "      <th>BALLOTS_IN_FAVOUR</th>\n",
       "      <th>BALLOTS_OPPOSED</th>\n",
       "      <th>BALLOTS_SPOILED</th>\n",
       "      <th>BALLOTS_BLANK</th>\n",
       "      <th>PASS_RATE_LABEL</th>\n",
       "      <th>PASS_RATE</th>\n",
       "      <th>POLL_RESULT</th>\n",
       "      <th>MORATORIUM_DATE</th>\n",
       "    </tr>\n",
       "  </thead>\n",
       "  <tbody>\n",
       "    <tr>\n",
       "      <th>548</th>\n",
       "      <td>793</td>\n",
       "      <td>TCP 2017-185</td>\n",
       "      <td>Traffic Calming</td>\n",
       "      <td>NaN</td>\n",
       "      <td>2017/11/09</td>\n",
       "      <td>2017/12/09</td>\n",
       "      <td>114</td>\n",
       "      <td>0</td>\n",
       "      <td>107</td>\n",
       "      <td>107</td>\n",
       "      <td>...</td>\n",
       "      <td>58</td>\n",
       "      <td>Yes</td>\n",
       "      <td>34</td>\n",
       "      <td>24</td>\n",
       "      <td>0</td>\n",
       "      <td>0</td>\n",
       "      <td>60% of received ballots</td>\n",
       "      <td>35.0</td>\n",
       "      <td>Opposed</td>\n",
       "      <td>2019/12/10</td>\n",
       "    </tr>\n",
       "    <tr>\n",
       "      <th>549</th>\n",
       "      <td>796</td>\n",
       "      <td>FYP 2017-188</td>\n",
       "      <td>Front Yard Parking</td>\n",
       "      <td>33 Church St (York)</td>\n",
       "      <td>2017/11/09</td>\n",
       "      <td>2017/12/09</td>\n",
       "      <td>78</td>\n",
       "      <td>0</td>\n",
       "      <td>28</td>\n",
       "      <td>28</td>\n",
       "      <td>...</td>\n",
       "      <td>5</td>\n",
       "      <td>No</td>\n",
       "      <td>5</td>\n",
       "      <td>0</td>\n",
       "      <td>0</td>\n",
       "      <td>0</td>\n",
       "      <td>50% + 1 of received ballots</td>\n",
       "      <td>NaN</td>\n",
       "      <td>Response Rate Not Met</td>\n",
       "      <td>2020/12/10</td>\n",
       "    </tr>\n",
       "    <tr>\n",
       "      <th>550</th>\n",
       "      <td>794</td>\n",
       "      <td>TCP 2017-186</td>\n",
       "      <td>Traffic Calming</td>\n",
       "      <td>NaN</td>\n",
       "      <td>2017/11/09</td>\n",
       "      <td>2017/12/09</td>\n",
       "      <td>13</td>\n",
       "      <td>0</td>\n",
       "      <td>10</td>\n",
       "      <td>10</td>\n",
       "      <td>...</td>\n",
       "      <td>3</td>\n",
       "      <td>No</td>\n",
       "      <td>3</td>\n",
       "      <td>0</td>\n",
       "      <td>0</td>\n",
       "      <td>0</td>\n",
       "      <td>60% of received ballots</td>\n",
       "      <td>NaN</td>\n",
       "      <td>Response Rate Not Met</td>\n",
       "      <td>2019/12/10</td>\n",
       "    </tr>\n",
       "    <tr>\n",
       "      <th>551</th>\n",
       "      <td>795</td>\n",
       "      <td>TCP 2017-187</td>\n",
       "      <td>Traffic Calming</td>\n",
       "      <td>NaN</td>\n",
       "      <td>2017/11/13</td>\n",
       "      <td>2017/12/13</td>\n",
       "      <td>82</td>\n",
       "      <td>0</td>\n",
       "      <td>73</td>\n",
       "      <td>73</td>\n",
       "      <td>...</td>\n",
       "      <td>53</td>\n",
       "      <td>Yes</td>\n",
       "      <td>29</td>\n",
       "      <td>23</td>\n",
       "      <td>1</td>\n",
       "      <td>0</td>\n",
       "      <td>60% of received ballots</td>\n",
       "      <td>32.0</td>\n",
       "      <td>Opposed</td>\n",
       "      <td>2019/12/14</td>\n",
       "    </tr>\n",
       "    <tr>\n",
       "      <th>552</th>\n",
       "      <td>797</td>\n",
       "      <td>FYP 2017-189</td>\n",
       "      <td>Front Yard Parking</td>\n",
       "      <td>128 Cameron Ave (York)</td>\n",
       "      <td>2017/11/13</td>\n",
       "      <td>2017/12/13</td>\n",
       "      <td>99</td>\n",
       "      <td>0</td>\n",
       "      <td>79</td>\n",
       "      <td>79</td>\n",
       "      <td>...</td>\n",
       "      <td>52</td>\n",
       "      <td>Yes</td>\n",
       "      <td>45</td>\n",
       "      <td>0</td>\n",
       "      <td>7</td>\n",
       "      <td>0</td>\n",
       "      <td>50% + 1 of received ballots</td>\n",
       "      <td>27.0</td>\n",
       "      <td>In Favour</td>\n",
       "      <td>2020/12/14</td>\n",
       "    </tr>\n",
       "  </tbody>\n",
       "</table>\n",
       "<p>5 rows × 24 columns</p>\n",
       "</div>"
      ],
      "text/plain": [
       "     POLL_ID       POLL_CD     APPLICATION_FOR                 ADDRESS  \\\n",
       "548      793  TCP 2017-185     Traffic Calming                     NaN   \n",
       "549      796  FYP 2017-188  Front Yard Parking     33 Church St (York)   \n",
       "550      794  TCP 2017-186     Traffic Calming                     NaN   \n",
       "551      795  TCP 2017-187     Traffic Calming                     NaN   \n",
       "552      797  FYP 2017-189  Front Yard Parking  128 Cameron Ave (York)   \n",
       "\n",
       "      OPEN_DATE  CLOSE_DATE  POTENTIAL_VOTERS  DECLARATIONS_ADDED  \\\n",
       "548  2017/11/09  2017/12/09               114                   0   \n",
       "549  2017/11/09  2017/12/09                78                   0   \n",
       "550  2017/11/09  2017/12/09                13                   0   \n",
       "551  2017/11/13  2017/12/13                82                   0   \n",
       "552  2017/11/13  2017/12/13                99                   0   \n",
       "\n",
       "     FINAL_VOTER_COUNT  BALLOTS_DISTRIBUTED       ...         BALLOTS_CAST  \\\n",
       "548                107                  107       ...                   58   \n",
       "549                 28                   28       ...                    5   \n",
       "550                 10                   10       ...                    3   \n",
       "551                 73                   73       ...                   53   \n",
       "552                 79                   79       ...                   52   \n",
       "\n",
       "     RESPONSE_RATE_MET BALLOTS_IN_FAVOUR  BALLOTS_OPPOSED  BALLOTS_SPOILED  \\\n",
       "548                Yes                34               24                0   \n",
       "549                 No                 5                0                0   \n",
       "550                 No                 3                0                0   \n",
       "551                Yes                29               23                1   \n",
       "552                Yes                45                0                7   \n",
       "\n",
       "    BALLOTS_BLANK              PASS_RATE_LABEL  PASS_RATE  \\\n",
       "548             0      60% of received ballots       35.0   \n",
       "549             0  50% + 1 of received ballots        NaN   \n",
       "550             0      60% of received ballots        NaN   \n",
       "551             0      60% of received ballots       32.0   \n",
       "552             0  50% + 1 of received ballots       27.0   \n",
       "\n",
       "               POLL_RESULT  MORATORIUM_DATE  \n",
       "548                Opposed       2019/12/10  \n",
       "549  Response Rate Not Met       2020/12/10  \n",
       "550  Response Rate Not Met       2019/12/10  \n",
       "551                Opposed       2019/12/14  \n",
       "552              In Favour       2020/12/14  \n",
       "\n",
       "[5 rows x 24 columns]"
      ]
     },
     "execution_count": 5,
     "metadata": {},
     "output_type": "execute_result"
    }
   ],
   "source": [
    "df.tail()"
   ]
  },
  {
   "cell_type": "code",
   "execution_count": 6,
   "metadata": {
    "collapsed": true
   },
   "outputs": [],
   "source": [
    "df = df.sort_values('APPLICATION_FOR', ascending=True)"
   ]
  },
  {
   "cell_type": "code",
   "execution_count": 7,
   "metadata": {
    "collapsed": true
   },
   "outputs": [],
   "source": [
    "# df.DATE = pd.to_datetime(df.DATE)"
   ]
  },
  {
   "cell_type": "code",
   "execution_count": 8,
   "metadata": {
    "collapsed": true
   },
   "outputs": [],
   "source": [
    "plt.rcParams['figure.figsize']=(6,5)"
   ]
  },
  {
   "cell_type": "code",
   "execution_count": 9,
   "metadata": {},
   "outputs": [
    {
     "data": {
      "text/plain": [
       "<matplotlib.figure.Figure at 0x7f7b16e19be0>"
      ]
     },
     "execution_count": 9,
     "metadata": {},
     "output_type": "execute_result"
    }
   ],
   "source": [
    "plt.figure()"
   ]
  },
  {
   "cell_type": "code",
   "execution_count": 10,
   "metadata": {
    "collapsed": true
   },
   "outputs": [],
   "source": [
    "sns.set(font_scale=1.25)"
   ]
  },
  {
   "cell_type": "code",
   "execution_count": 11,
   "metadata": {},
   "outputs": [],
   "source": [
    "# plt.axis(\"off\")"
   ]
  },
  {
   "cell_type": "code",
   "execution_count": 12,
   "metadata": {
    "collapsed": true
   },
   "outputs": [],
   "source": [
    "# ax = sns.barplot(y=\"establishment_name\", x=\"suspension_length_days\", data=df_2017, ci=None, palette=\"Blues_d\")"
   ]
  },
  {
   "cell_type": "code",
   "execution_count": 13,
   "metadata": {},
   "outputs": [],
   "source": [
    "ax = sns.countplot(y=\"APPLICATION_FOR\", data=df, palette=\"Blues_d\")"
   ]
  },
  {
   "cell_type": "code",
   "execution_count": 14,
   "metadata": {},
   "outputs": [
    {
     "data": {
      "text/plain": [
       "Text(0.5,1,'City of Toronto Polls Conducted\\n for Public Feedback 2015-2017')"
      ]
     },
     "execution_count": 14,
     "metadata": {},
     "output_type": "execute_result"
    }
   ],
   "source": [
    "plt.title('City of Toronto Polls Conducted\\n for Public Feedback 2015-2017', fontsize=15)"
   ]
  },
  {
   "cell_type": "code",
   "execution_count": 15,
   "metadata": {},
   "outputs": [
    {
     "data": {
      "text/plain": [
       "Text(0.5,0,'Count')"
      ]
     },
     "execution_count": 15,
     "metadata": {},
     "output_type": "execute_result"
    }
   ],
   "source": [
    "plt.xlabel('Count')"
   ]
  },
  {
   "cell_type": "code",
   "execution_count": 16,
   "metadata": {},
   "outputs": [
    {
     "data": {
      "text/plain": [
       "Text(0,0.5,' ')"
      ]
     },
     "execution_count": 16,
     "metadata": {},
     "output_type": "execute_result"
    }
   ],
   "source": [
    "plt.ylabel(' ')"
   ]
  },
  {
   "cell_type": "code",
   "execution_count": 17,
   "metadata": {},
   "outputs": [
    {
     "data": {
      "image/png": "[encoded data removed]",
      "text/plain": [
       "<matplotlib.figure.Figure at 0x7f7b16e19be0>"
      ]
     },
     "metadata": {},
     "output_type": "display_data"
    }
   ],
   "source": [
    "plt.show()"
   ]
  }
 ],
 "metadata": {
  "kernelspec": {
   "display_name": "Python 3.6",
   "language": "python",
   "name": "python36"
  },
  "language_info": {
   "codemirror_mode": {
    "name": "ipython",
    "version": 3
   },
   "file_extension": ".py",
   "mimetype": "text/x-python",
   "name": "python",
   "nbconvert_exporter": "python",
   "pygments_lexer": "ipython3",
   "version": "3.6.2"
  }
 },
 "nbformat": 4,
 "nbformat_minor": 2
}
